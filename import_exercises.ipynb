{
 "cells": [
  {
   "cell_type": "code",
   "execution_count": 5,
   "id": "f487eef1",
   "metadata": {},
   "outputs": [
    {
     "name": "stdout",
     "output_type": "stream",
     "text": [
      "control_structures_exercises.py   jupyter_functions_notes.ipynb\r\n",
      "data_types_and_variables.py       looping_problems.py\r\n",
      "function_exercises.py             my_first_notebook.ipynb\r\n",
      "import_exercises.ipynb            python_introduction_exercises.py\r\n"
     ]
    }
   ],
   "source": [
    "ls"
   ]
  },
  {
   "cell_type": "code",
   "execution_count": 12,
   "id": "c219fad1",
   "metadata": {},
   "outputs": [],
   "source": [
    "import function_exercises as fe"
   ]
  },
  {
   "cell_type": "code",
   "execution_count": 31,
   "id": "3ecb410c",
   "metadata": {},
   "outputs": [],
   "source": [
    "from function_exercises import calculate_tip"
   ]
  },
  {
   "cell_type": "code",
   "execution_count": 13,
   "id": "629b6341",
   "metadata": {},
   "outputs": [
    {
     "data": {
      "text/plain": [
       "False"
      ]
     },
     "execution_count": 13,
     "metadata": {},
     "output_type": "execute_result"
    }
   ],
   "source": [
    "fe.is_two(5)"
   ]
  },
  {
   "cell_type": "code",
   "execution_count": 16,
   "id": "d07805c9",
   "metadata": {},
   "outputs": [
    {
     "data": {
      "text/plain": [
       "False"
      ]
     },
     "execution_count": 16,
     "metadata": {},
     "output_type": "execute_result"
    }
   ],
   "source": [
    "fe.is_vowel(\"x\")"
   ]
  },
  {
   "cell_type": "code",
   "execution_count": 20,
   "id": "652b7393",
   "metadata": {},
   "outputs": [
    {
     "data": {
      "text/plain": [
       "False"
      ]
     },
     "execution_count": 20,
     "metadata": {},
     "output_type": "execute_result"
    }
   ],
   "source": [
    "fe.calculate_tip(20,27)"
   ]
  },
  {
   "cell_type": "code",
   "execution_count": 24,
   "id": "f8227f59",
   "metadata": {},
   "outputs": [
    {
     "data": {
      "text/plain": [
       "False"
      ]
     },
     "execution_count": 24,
     "metadata": {},
     "output_type": "execute_result"
    }
   ],
   "source": [
    "fe.calculate_tip(\"20\",\"1\")"
   ]
  },
  {
   "cell_type": "code",
   "execution_count": 25,
   "id": "744443c7",
   "metadata": {},
   "outputs": [
    {
     "data": {
      "text/plain": [
       "True"
      ]
     },
     "execution_count": 25,
     "metadata": {},
     "output_type": "execute_result"
    }
   ],
   "source": [
    "fe.is_two(2)"
   ]
  },
  {
   "cell_type": "code",
   "execution_count": 26,
   "id": "a1a42e21",
   "metadata": {},
   "outputs": [
    {
     "data": {
      "text/plain": [
       "True"
      ]
     },
     "execution_count": 26,
     "metadata": {},
     "output_type": "execute_result"
    }
   ],
   "source": [
    "fe.is_vowel(\"a\")"
   ]
  },
  {
   "cell_type": "code",
   "execution_count": 27,
   "id": "19c4e41b",
   "metadata": {},
   "outputs": [
    {
     "ename": "NameError",
     "evalue": "name 'is_consonant' is not defined",
     "output_type": "error",
     "traceback": [
      "\u001b[0;31m---------------------------------------------------------------------------\u001b[0m",
      "\u001b[0;31mNameError\u001b[0m                                 Traceback (most recent call last)",
      "\u001b[0;32m/var/folders/bk/zhdff0zs3yz8v31x8wdnftxm0000gn/T/ipykernel_49061/2920661321.py\u001b[0m in \u001b[0;36m<module>\u001b[0;34m\u001b[0m\n\u001b[0;32m----> 1\u001b[0;31m \u001b[0mis_consonant\u001b[0m\u001b[0;34m(\u001b[0m\u001b[0;34m\"a\"\u001b[0m\u001b[0;34m)\u001b[0m\u001b[0;34m\u001b[0m\u001b[0;34m\u001b[0m\u001b[0m\n\u001b[0m",
      "\u001b[0;31mNameError\u001b[0m: name 'is_consonant' is not defined"
     ]
    }
   ],
   "source": [
    "is_consonant(\"a\")"
   ]
  },
  {
   "cell_type": "code",
   "execution_count": 28,
   "id": "1546fa68",
   "metadata": {},
   "outputs": [
    {
     "data": {
      "text/plain": [
       "False"
      ]
     },
     "execution_count": 28,
     "metadata": {},
     "output_type": "execute_result"
    }
   ],
   "source": [
    "fe.is_consonant(\"a\")"
   ]
  },
  {
   "cell_type": "code",
   "execution_count": 33,
   "id": "7972b01e",
   "metadata": {},
   "outputs": [
    {
     "data": {
      "text/plain": [
       "False"
      ]
     },
     "execution_count": 33,
     "metadata": {},
     "output_type": "execute_result"
    }
   ],
   "source": [
    "fe.calculate_tip(10,27)"
   ]
  },
  {
   "cell_type": "code",
   "execution_count": 37,
   "id": "ed4ed385",
   "metadata": {},
   "outputs": [
    {
     "data": {
      "text/plain": [
       "12.700000000000001"
      ]
     },
     "execution_count": 37,
     "metadata": {},
     "output_type": "execute_result"
    }
   ],
   "source": [
    "fe.calculate_tip(127,0.1)"
   ]
  },
  {
   "cell_type": "code",
   "execution_count": 1,
   "id": "3973c620",
   "metadata": {},
   "outputs": [],
   "source": [
    "from function_exercises import get_letter_grade"
   ]
  },
  {
   "cell_type": "code",
   "execution_count": 2,
   "id": "9980522d",
   "metadata": {},
   "outputs": [
    {
     "data": {
      "text/plain": [
       "'A'"
      ]
     },
     "execution_count": 2,
     "metadata": {},
     "output_type": "execute_result"
    }
   ],
   "source": [
    "get_letter_grade(90)"
   ]
  },
  {
   "cell_type": "code",
   "execution_count": null,
   "id": "11af7ed0",
   "metadata": {},
   "outputs": [],
   "source": []
  }
 ],
 "metadata": {
  "kernelspec": {
   "display_name": "Python 3 (ipykernel)",
   "language": "python",
   "name": "python3"
  },
  "language_info": {
   "codemirror_mode": {
    "name": "ipython",
    "version": 3
   },
   "file_extension": ".py",
   "mimetype": "text/x-python",
   "name": "python",
   "nbconvert_exporter": "python",
   "pygments_lexer": "ipython3",
   "version": "3.9.7"
  }
 },
 "nbformat": 4,
 "nbformat_minor": 5
}
