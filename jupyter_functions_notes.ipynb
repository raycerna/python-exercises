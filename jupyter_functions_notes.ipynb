{
 "cells": [
  {
   "cell_type": "code",
   "execution_count": 1,
   "id": "82486188",
   "metadata": {},
   "outputs": [
    {
     "data": {
      "text/plain": [
       "<function max>"
      ]
     },
     "execution_count": 1,
     "metadata": {},
     "output_type": "execute_result"
    }
   ],
   "source": [
    "# a reference to the max function\n",
    "max"
   ]
  },
  {
   "cell_type": "code",
   "execution_count": 2,
   "id": "548b04ae",
   "metadata": {},
   "outputs": [],
   "source": [
    "max?"
   ]
  },
  {
   "cell_type": "code",
   "execution_count": 3,
   "id": "1a83f6c0",
   "metadata": {},
   "outputs": [
    {
     "data": {
      "text/plain": [
       "4"
      ]
     },
     "execution_count": 3,
     "metadata": {},
     "output_type": "execute_result"
    }
   ],
   "source": [
    "# calling the max function with 1 arguement, a list of numbers\n",
    "max([4,2,3,1])"
   ]
  },
  {
   "cell_type": "code",
   "execution_count": 4,
   "id": "3e059fad",
   "metadata": {},
   "outputs": [],
   "source": [
    "maximum_number = max([4,2,3,1])"
   ]
  },
  {
   "cell_type": "code",
   "execution_count": 5,
   "id": "39d17ba3",
   "metadata": {},
   "outputs": [
    {
     "name": "stdout",
     "output_type": "stream",
     "text": [
      "4\n"
     ]
    }
   ],
   "source": [
    "print (maximum_number)"
   ]
  },
  {
   "cell_type": "code",
   "execution_count": 7,
   "id": "9814f909",
   "metadata": {},
   "outputs": [
    {
     "name": "stdout",
     "output_type": "stream",
     "text": [
      "The max is:4\n"
     ]
    }
   ],
   "source": [
    "print('The max is:' + str(max([4,2,3,1])))"
   ]
  },
  {
   "cell_type": "code",
   "execution_count": 8,
   "id": "97fcd35b",
   "metadata": {},
   "outputs": [
    {
     "name": "stdout",
     "output_type": "stream",
     "text": [
      "the max is: 4\n"
     ]
    }
   ],
   "source": [
    "print('the max is: ' + str(maximum_number))"
   ]
  },
  {
   "cell_type": "code",
   "execution_count": 9,
   "id": "07807a19",
   "metadata": {},
   "outputs": [],
   "source": [
    "def increment(n):\n",
    "    return n + 1"
   ]
  },
  {
   "cell_type": "code",
   "execution_count": 10,
   "id": "1f0aa3dd",
   "metadata": {},
   "outputs": [
    {
     "name": "stdout",
     "output_type": "stream",
     "text": [
      "4\n"
     ]
    }
   ],
   "source": [
    "four = increment(3)\n",
    "print(four)"
   ]
  },
  {
   "cell_type": "code",
   "execution_count": 13,
   "id": "06dc4662",
   "metadata": {},
   "outputs": [],
   "source": [
    "value = increment(3)\n",
    "value = increment(value)\n",
    "value = increment(value)"
   ]
  },
  {
   "cell_type": "code",
   "execution_count": 11,
   "id": "44ac3a04",
   "metadata": {},
   "outputs": [
    {
     "name": "stdout",
     "output_type": "stream",
     "text": [
      "6\n"
     ]
    }
   ],
   "source": [
    "six = increment(increment(increment(3)))\n",
    "print(six)"
   ]
  },
  {
   "cell_type": "code",
   "execution_count": 14,
   "id": "9dbcf1ad",
   "metadata": {},
   "outputs": [
    {
     "name": "stdout",
     "output_type": "stream",
     "text": [
      "6\n"
     ]
    }
   ],
   "source": [
    "print(value)"
   ]
  },
  {
   "cell_type": "code",
   "execution_count": 15,
   "id": "e0eb5fc6",
   "metadata": {},
   "outputs": [
    {
     "data": {
      "text/plain": [
       "True"
      ]
     },
     "execution_count": 15,
     "metadata": {},
     "output_type": "execute_result"
    }
   ],
   "source": [
    "six = increment(increment(increment(3)))\n",
    "six = increment(increment(4))\n",
    "six = increment(5)\n",
    "six == 6"
   ]
  },
  {
   "cell_type": "code",
   "execution_count": 16,
   "id": "db2f1cae",
   "metadata": {},
   "outputs": [],
   "source": [
    "def bad_increment(n):\n",
    "    n+1"
   ]
  },
  {
   "cell_type": "code",
   "execution_count": 17,
   "id": "0ca385ae",
   "metadata": {},
   "outputs": [
    {
     "name": "stdout",
     "output_type": "stream",
     "text": [
      "None\n"
     ]
    }
   ],
   "source": [
    "print(bad_increment(1))"
   ]
  },
  {
   "cell_type": "code",
   "execution_count": 18,
   "id": "efd5853e",
   "metadata": {},
   "outputs": [
    {
     "data": {
      "text/plain": [
       "4"
      ]
     },
     "execution_count": 18,
     "metadata": {},
     "output_type": "execute_result"
    }
   ],
   "source": [
    "def increment(n):\n",
    "    return n+1\n",
    "    print('You will never see this')\n",
    "    return n+1\n",
    "increment (3)"
   ]
  },
  {
   "cell_type": "code",
   "execution_count": 19,
   "id": "14ec7d74",
   "metadata": {},
   "outputs": [],
   "source": [
    "def declare_even_odd(n):\n",
    "    if n%2==0:\n",
    "        return 'Even'\n",
    "    else: \n",
    "        return 'Odd'"
   ]
  },
  {
   "cell_type": "code",
   "execution_count": 20,
   "id": "17eb686b",
   "metadata": {},
   "outputs": [
    {
     "data": {
      "text/plain": [
       "'Odd'"
      ]
     },
     "execution_count": 20,
     "metadata": {},
     "output_type": "execute_result"
    }
   ],
   "source": [
    "declare_even_odd(1)"
   ]
  },
  {
   "cell_type": "code",
   "execution_count": 21,
   "id": "1e5f1658",
   "metadata": {},
   "outputs": [],
   "source": [
    "#arguments: is the value a function is called ith\n",
    "#parameters: is part of a function's definition; a placeholder for an argument"
   ]
  },
  {
   "cell_type": "code",
   "execution_count": 22,
   "id": "74ce152e",
   "metadata": {},
   "outputs": [],
   "source": [
    "def add(a,b):\n",
    "    result = a + b\n",
    "    return result\n",
    "\n",
    "x = 3\n",
    "seven = add(x, 4)"
   ]
  },
  {
   "cell_type": "code",
   "execution_count": 23,
   "id": "21b986c5",
   "metadata": {},
   "outputs": [
    {
     "data": {
      "text/plain": [
       "7"
      ]
     },
     "execution_count": 23,
     "metadata": {},
     "output_type": "execute_result"
    }
   ],
   "source": [
    "seven"
   ]
  },
  {
   "cell_type": "code",
   "execution_count": 24,
   "id": "98a288e6",
   "metadata": {},
   "outputs": [
    {
     "data": {
      "text/plain": [
       "'34'"
      ]
     },
     "execution_count": 24,
     "metadata": {},
     "output_type": "execute_result"
    }
   ],
   "source": [
    "seven = add('3','4')\n",
    "seven"
   ]
  },
  {
   "cell_type": "code",
   "execution_count": 25,
   "id": "6b748614",
   "metadata": {},
   "outputs": [],
   "source": [
    "def shout(message):\n",
    "    print(message.upper() + '!!!')"
   ]
  },
  {
   "cell_type": "code",
   "execution_count": 26,
   "id": "7a876717",
   "metadata": {},
   "outputs": [
    {
     "name": "stdout",
     "output_type": "stream",
     "text": [
      "HEY THERE!!!\n"
     ]
    }
   ],
   "source": [
    "return_value = shout('hey there')"
   ]
  },
  {
   "cell_type": "code",
   "execution_count": 29,
   "id": "b8e6f5cf",
   "metadata": {},
   "outputs": [
    {
     "name": "stdout",
     "output_type": "stream",
     "text": [
      "None\n"
     ]
    }
   ],
   "source": [
    "print(return_value) #none is the absence of a value"
   ]
  },
  {
   "cell_type": "code",
   "execution_count": 31,
   "id": "0c541c0a",
   "metadata": {},
   "outputs": [
    {
     "name": "stdout",
     "output_type": "stream",
     "text": [
      "Hey there!\n"
     ]
    }
   ],
   "source": [
    "def sayhello():\n",
    "    print ('Hey there!')\n",
    "sayhello()"
   ]
  },
  {
   "cell_type": "code",
   "execution_count": 32,
   "id": "4da97419",
   "metadata": {},
   "outputs": [],
   "source": [
    "def return_3():\n",
    "    return 3"
   ]
  },
  {
   "cell_type": "code",
   "execution_count": 33,
   "id": "cf2f407e",
   "metadata": {},
   "outputs": [
    {
     "name": "stdout",
     "output_type": "stream",
     "text": [
      "3\n"
     ]
    }
   ],
   "source": [
    "num = return_3()\n",
    "print(num)"
   ]
  },
  {
   "cell_type": "code",
   "execution_count": 34,
   "id": "27e7dce8",
   "metadata": {},
   "outputs": [
    {
     "ename": "TypeError",
     "evalue": "sayhello() takes 0 positional arguments but 1 was given",
     "output_type": "error",
     "traceback": [
      "\u001b[0;31m---------------------------------------------------------------------------\u001b[0m",
      "\u001b[0;31mTypeError\u001b[0m                                 Traceback (most recent call last)",
      "\u001b[0;32m/var/folders/bk/zhdff0zs3yz8v31x8wdnftxm0000gn/T/ipykernel_74907/4204032138.py\u001b[0m in \u001b[0;36m<module>\u001b[0;34m\u001b[0m\n\u001b[0;32m----> 1\u001b[0;31m \u001b[0msayhello\u001b[0m\u001b[0;34m(\u001b[0m\u001b[0;36m123\u001b[0m\u001b[0;34m)\u001b[0m\u001b[0;34m\u001b[0m\u001b[0;34m\u001b[0m\u001b[0m\n\u001b[0m",
      "\u001b[0;31mTypeError\u001b[0m: sayhello() takes 0 positional arguments but 1 was given"
     ]
    }
   ],
   "source": [
    "sayhello(123) #creating functions that have no return value or no parameters"
   ]
  },
  {
   "cell_type": "code",
   "execution_count": 35,
   "id": "019dd873",
   "metadata": {},
   "outputs": [],
   "source": [
    "def sayhello(name='World', greeting='Hello'):\n",
    "    return '{}, {}!'.format(greeting, name)"
   ]
  },
  {
   "cell_type": "code",
   "execution_count": 36,
   "id": "d0cf32cf",
   "metadata": {},
   "outputs": [
    {
     "data": {
      "text/plain": [
       "'Hello, World!'"
      ]
     },
     "execution_count": 36,
     "metadata": {},
     "output_type": "execute_result"
    }
   ],
   "source": [
    "sayhello()"
   ]
  },
  {
   "cell_type": "code",
   "execution_count": 37,
   "id": "b54b9566",
   "metadata": {},
   "outputs": [
    {
     "data": {
      "text/plain": [
       "'Hello, codeup!'"
      ]
     },
     "execution_count": 37,
     "metadata": {},
     "output_type": "execute_result"
    }
   ],
   "source": [
    "sayhello('codeup') #takes in first function in def then this one"
   ]
  },
  {
   "cell_type": "code",
   "execution_count": 38,
   "id": "b1cfee55",
   "metadata": {},
   "outputs": [
    {
     "data": {
      "text/plain": [
       "'Salutations, codeup!'"
      ]
     },
     "execution_count": 38,
     "metadata": {},
     "output_type": "execute_result"
    }
   ],
   "source": [
    "sayhello('codeup','Salutations')"
   ]
  },
  {
   "cell_type": "code",
   "execution_count": 45,
   "id": "c7c38082",
   "metadata": {},
   "outputs": [
    {
     "data": {
      "text/plain": [
       "'Salutations, Codeup!'"
      ]
     },
     "execution_count": 45,
     "metadata": {},
     "output_type": "execute_result"
    }
   ],
   "source": [
    "#calling functions\n",
    "\n",
    "args = ['Codeup', 'Salutations']\n",
    "sayhello(*args)"
   ]
  },
  {
   "cell_type": "code",
   "execution_count": 42,
   "id": "0c7e210c",
   "metadata": {},
   "outputs": [
    {
     "data": {
      "text/plain": [
       "'Salutations, Codeup!'"
      ]
     },
     "execution_count": 42,
     "metadata": {},
     "output_type": "execute_result"
    }
   ],
   "source": [
    "kwargs = {'greeting': 'Salutations', 'name': 'Codeup'}\n",
    "sayhello(**kwargs)"
   ]
  },
  {
   "cell_type": "code",
   "execution_count": 46,
   "id": "ce5a219b",
   "metadata": {},
   "outputs": [],
   "source": [
    "#function scope is a term that describes where a variable can be referenced. in-scope can reference it, \n",
    "#out-of-scope cannot reference"
   ]
  },
  {
   "cell_type": "code",
   "execution_count": 47,
   "id": "822c77d1",
   "metadata": {},
   "outputs": [],
   "source": [
    "a_global_variable = 42"
   ]
  },
  {
   "cell_type": "code",
   "execution_count": 48,
   "id": "05af81a4",
   "metadata": {},
   "outputs": [],
   "source": [
    "def somefunction():\n",
    "    print('inside the function: %s' % a_global_variable)"
   ]
  },
  {
   "cell_type": "code",
   "execution_count": 50,
   "id": "fd0e5f6a",
   "metadata": {},
   "outputs": [
    {
     "name": "stdout",
     "output_type": "stream",
     "text": [
      "inside the function: 42\n"
     ]
    }
   ],
   "source": [
    "somefunction()"
   ]
  },
  {
   "cell_type": "code",
   "execution_count": 51,
   "id": "c97a9423",
   "metadata": {},
   "outputs": [
    {
     "name": "stdout",
     "output_type": "stream",
     "text": [
      "outside the function: 42\n"
     ]
    }
   ],
   "source": [
    "print('outside the function: %s' % a_global_variable)"
   ]
  },
  {
   "cell_type": "code",
   "execution_count": 52,
   "id": "8632e2f4",
   "metadata": {},
   "outputs": [],
   "source": [
    "def somefunction():\n",
    "    a_local_variable = 'pizza'\n",
    "    print('Inside the function: %s' % a_local_variable)"
   ]
  },
  {
   "cell_type": "code",
   "execution_count": 54,
   "id": "8bfa40bc",
   "metadata": {},
   "outputs": [],
   "source": [
    "#shadowing local and global variable have the same name. Name defaults to global"
   ]
  },
  {
   "cell_type": "code",
   "execution_count": 55,
   "id": "1aadd5d4",
   "metadata": {},
   "outputs": [],
   "source": [
    "n = 123"
   ]
  },
  {
   "cell_type": "code",
   "execution_count": 56,
   "id": "35b45409",
   "metadata": {},
   "outputs": [],
   "source": [
    "def somefunction():\n",
    "    n=10\n",
    "    n=n-3\n",
    "    print('Inside the function, n == %s' % n)"
   ]
  },
  {
   "cell_type": "code",
   "execution_count": 57,
   "id": "e4c63e72",
   "metadata": {},
   "outputs": [
    {
     "name": "stdout",
     "output_type": "stream",
     "text": [
      "Inside the function, n == 7\n"
     ]
    }
   ],
   "source": [
    "somefunction()"
   ]
  },
  {
   "cell_type": "code",
   "execution_count": 58,
   "id": "15d310df",
   "metadata": {},
   "outputs": [
    {
     "name": "stdout",
     "output_type": "stream",
     "text": [
      "outside the function, n == 123\n"
     ]
    }
   ],
   "source": [
    "print('outside the function, n == %s' % n)"
   ]
  },
  {
   "cell_type": "code",
   "execution_count": 59,
   "id": "c2f7b9be",
   "metadata": {},
   "outputs": [
    {
     "name": "stdout",
     "output_type": "stream",
     "text": [
      "outside the function, n == 123\n"
     ]
    }
   ],
   "source": [
    "print('outside the function, n == %s' %n)"
   ]
  },
  {
   "cell_type": "code",
   "execution_count": 60,
   "id": "cf6d250c",
   "metadata": {},
   "outputs": [],
   "source": [
    "n = 123\n",
    "\n",
    "def for_loop_func(n):\n",
    "    n = 10\n",
    "    for i in range(10):\n",
    "        n+=1\n",
    "    return n"
   ]
  },
  {
   "cell_type": "code",
   "execution_count": 65,
   "id": "8fd44b8d",
   "metadata": {},
   "outputs": [
    {
     "name": "stdout",
     "output_type": "stream",
     "text": [
      "Global variable - outside the function: n == 123\n"
     ]
    }
   ],
   "source": [
    "print(f\"Global variable - outside the function: n == {n}\")\n"
   ]
  },
  {
   "cell_type": "code",
   "execution_count": 66,
   "id": "7c11d469",
   "metadata": {},
   "outputs": [],
   "source": [
    "n2 = for_loop_func(n)"
   ]
  },
  {
   "cell_type": "code",
   "execution_count": 67,
   "id": "ed8eaa8e",
   "metadata": {},
   "outputs": [
    {
     "name": "stdout",
     "output_type": "stream",
     "text": [
      "Global variable - came from inside the function: n2 == 20\n"
     ]
    }
   ],
   "source": [
    "print(f\"Global variable - came from inside the function: n2 == {n2}\")"
   ]
  },
  {
   "cell_type": "code",
   "execution_count": 68,
   "id": "72326672",
   "metadata": {},
   "outputs": [
    {
     "name": "stdout",
     "output_type": "stream",
     "text": [
      "old global variable - outside the function: n == 123\n"
     ]
    }
   ],
   "source": [
    "#and what happened to the global variable n?\n",
    "print(f\"old global variable - outside the function: n == {n}\")"
   ]
  },
  {
   "cell_type": "code",
   "execution_count": 69,
   "id": "2580fefe",
   "metadata": {},
   "outputs": [],
   "source": [
    "#lambda functions - shortcuts for making several functions\n",
    "\n",
    "#lambda [input]: [input] + 1"
   ]
  },
  {
   "cell_type": "code",
   "execution_count": 74,
   "id": "fd4e29cd",
   "metadata": {},
   "outputs": [
    {
     "data": {
      "text/plain": [
       "10"
      ]
     },
     "execution_count": 74,
     "metadata": {},
     "output_type": "execute_result"
    }
   ],
   "source": [
    "add_one = lambda n: n + 1\n",
    "add_one(9)"
   ]
  },
  {
   "cell_type": "code",
   "execution_count": 75,
   "id": "9e4c66b8",
   "metadata": {},
   "outputs": [
    {
     "data": {
      "text/plain": [
       "<function __main__.<lambda>(n)>"
      ]
     },
     "execution_count": 75,
     "metadata": {},
     "output_type": "execute_result"
    }
   ],
   "source": [
    "add_one"
   ]
  },
  {
   "cell_type": "code",
   "execution_count": 77,
   "id": "fc958f2d",
   "metadata": {},
   "outputs": [
    {
     "data": {
      "text/plain": [
       "81"
      ]
     },
     "execution_count": 77,
     "metadata": {},
     "output_type": "execute_result"
    }
   ],
   "source": [
    "square = lambda n: n ** 2\n",
    "square(9)"
   ]
  },
  {
   "cell_type": "code",
   "execution_count": 78,
   "id": "8828e5ee",
   "metadata": {},
   "outputs": [],
   "source": [
    "#function use help us rewrite code that have already used\n"
   ]
  },
  {
   "cell_type": "code",
   "execution_count": 79,
   "id": "7c66dc17",
   "metadata": {},
   "outputs": [],
   "source": [
    "def if_even(num):\n",
    "    print('This number is even!')\n",
    "    print(f'The square of this number is {num * num}')"
   ]
  },
  {
   "cell_type": "code",
   "execution_count": 85,
   "id": "d62a8259",
   "metadata": {},
   "outputs": [],
   "source": [
    "def if_odd(num):\n",
    "    print('This number is odd!')\n",
    "    print(f'The cube of this number is {num ** 3}')"
   ]
  },
  {
   "cell_type": "code",
   "execution_count": 86,
   "id": "c5404d6d",
   "metadata": {},
   "outputs": [
    {
     "name": "stdout",
     "output_type": "stream",
     "text": [
      "This number is odd!\n",
      "The cube of this number is 343\n"
     ]
    }
   ],
   "source": [
    "num = 7 \n",
    "if num==0:\n",
    "    print('This is not even. This is not odd. This is special.')\n",
    "elif num % 2 == 0:\n",
    "    if_even(num)\n",
    "else:\n",
    "    if_odd(num)"
   ]
  },
  {
   "cell_type": "code",
   "execution_count": null,
   "id": "da898145",
   "metadata": {},
   "outputs": [],
   "source": []
  }
 ],
 "metadata": {
  "kernelspec": {
   "display_name": "Python 3 (ipykernel)",
   "language": "python",
   "name": "python3"
  },
  "language_info": {
   "codemirror_mode": {
    "name": "ipython",
    "version": 3
   },
   "file_extension": ".py",
   "mimetype": "text/x-python",
   "name": "python",
   "nbconvert_exporter": "python",
   "pygments_lexer": "ipython3",
   "version": "3.9.7"
  }
 },
 "nbformat": 4,
 "nbformat_minor": 5
}
